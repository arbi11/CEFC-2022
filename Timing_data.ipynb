{
  "nbformat": 4,
  "nbformat_minor": 0,
  "metadata": {
    "colab": {
      "provenance": [],
      "collapsed_sections": [],
      "include_colab_link": true
    },
    "kernelspec": {
      "name": "python3",
      "display_name": "Python 3"
    },
    "language_info": {
      "name": "python"
    },
    "accelerator": "GPU"
  },
  "cells": [
    {
      "cell_type": "markdown",
      "metadata": {
        "id": "view-in-github",
        "colab_type": "text"
      },
      "source": [
        "<a href=\"https://colab.research.google.com/github/arbi11/CEFC-2022/blob/main/Timing_data.ipynb\" target=\"_parent\"><img src=\"https://colab.research.google.com/assets/colab-badge.svg\" alt=\"Open In Colab\"/></a>"
      ]
    },
    {
      "cell_type": "markdown",
      "source": [
        "# Introduction"
      ],
      "metadata": {
        "id": "9FkKuCKVu37S"
      }
    },
    {
      "cell_type": "code",
      "execution_count": null,
      "metadata": {
        "id": "hMAdkjiKuyfP"
      },
      "outputs": [],
      "source": [
        "import tensorflow as tf\n",
        "import pandas as pd\n",
        "import numpy as np\n",
        "import matplotlib.pyplot as plt\n",
        "from sklearn.preprocessing import StandardScaler\n",
        "from sklearn.preprocessing import MinMaxScaler\n",
        "from time import time"
      ]
    },
    {
      "cell_type": "markdown",
      "source": [
        "Good to know what version of tensorflow we're using..."
      ],
      "metadata": {
        "id": "kXoNHuPwvApZ"
      }
    },
    {
      "cell_type": "code",
      "source": [
        "print(tf.version.VERSION)"
      ],
      "metadata": {
        "id": "wefDljodvAC6",
        "colab": {
          "base_uri": "https://localhost:8080/"
        },
        "outputId": "64e57f47-35b7-4033-d742-fb397616ef4b"
      },
      "execution_count": null,
      "outputs": [
        {
          "output_type": "stream",
          "name": "stdout",
          "text": [
            "2.9.2\n"
          ]
        }
      ]
    },
    {
      "cell_type": "code",
      "source": [
        "import logging\n",
        "tf.get_logger().setLevel(logging.INFO)"
      ],
      "metadata": {
        "id": "l11FFjYsJy4-"
      },
      "execution_count": null,
      "outputs": []
    },
    {
      "cell_type": "code",
      "source": [
        "!lscpu"
      ],
      "metadata": {
        "colab": {
          "base_uri": "https://localhost:8080/"
        },
        "id": "bWavdH092ahN",
        "outputId": "85fda497-cf61-4db7-e88d-8863c945a4a1"
      },
      "execution_count": null,
      "outputs": [
        {
          "output_type": "stream",
          "name": "stdout",
          "text": [
            "Architecture:        x86_64\n",
            "CPU op-mode(s):      32-bit, 64-bit\n",
            "Byte Order:          Little Endian\n",
            "CPU(s):              2\n",
            "On-line CPU(s) list: 0,1\n",
            "Thread(s) per core:  2\n",
            "Core(s) per socket:  1\n",
            "Socket(s):           1\n",
            "NUMA node(s):        1\n",
            "Vendor ID:           GenuineIntel\n",
            "CPU family:          6\n",
            "Model:               85\n",
            "Model name:          Intel(R) Xeon(R) CPU @ 2.00GHz\n",
            "Stepping:            3\n",
            "CPU MHz:             2000.204\n",
            "BogoMIPS:            4000.40\n",
            "Hypervisor vendor:   KVM\n",
            "Virtualization type: full\n",
            "L1d cache:           32K\n",
            "L1i cache:           32K\n",
            "L2 cache:            1024K\n",
            "L3 cache:            39424K\n",
            "NUMA node0 CPU(s):   0,1\n",
            "Flags:               fpu vme de pse tsc msr pae mce cx8 apic sep mtrr pge mca cmov pat pse36 clflush mmx fxsr sse sse2 ss ht syscall nx pdpe1gb rdtscp lm constant_tsc rep_good nopl xtopology nonstop_tsc cpuid tsc_known_freq pni pclmulqdq ssse3 fma cx16 pcid sse4_1 sse4_2 x2apic movbe popcnt aes xsave avx f16c rdrand hypervisor lahf_lm abm 3dnowprefetch invpcid_single ssbd ibrs ibpb stibp fsgsbase tsc_adjust bmi1 hle avx2 smep bmi2 erms invpcid rtm mpx avx512f avx512dq rdseed adx smap clflushopt clwb avx512cd avx512bw avx512vl xsaveopt xsavec xgetbv1 xsaves arat md_clear arch_capabilities\n"
          ]
        }
      ]
    },
    {
      "cell_type": "markdown",
      "source": [
        "# Data Acquisition and Cleanup"
      ],
      "metadata": {
        "id": "4qf3GZhHvEgd"
      }
    },
    {
      "cell_type": "code",
      "source": [
        "for (name, (train_url, test_url)) in {\n",
        "    'M19': ('https://docs.google.com/spreadsheets/d/e/2PACX-1vTX1O03TCJYomYg1QU6SpGi-OhR_V3Kkx1Xkc2JUpaWaLlztDSLMn6eFXyFmaVZrmRIJjGoqY5LkENP/pub?gid=1103714291&single=true&output=csv',\n",
        "            'https://docs.google.com/spreadsheets/d/e/2PACX-1vQQFzZz0My7iSpzHtl2K2m-2oBCHT--nqaXZiPxct4sJO2CPQWiRD6HRA8AeJHHQkY6bcu9lxatiLaP/pub?gid=1992106649&single=true&output=csv'),\n",
        "  }.items():\n",
        "  print(name)\n",
        "\n",
        "  # *  Get rid of the 5 useless rows at the beginning of each file\n",
        "  # *  Normalize the column names to 't', 'Hx', 'Bx', 'Hy', 'By', 'Hz', 'Bz'\n",
        "  df = pd.read_csv(train_url, skiprows=5, usecols=range(1, 8))\n",
        "  df.to_csv(f\"{name}_train.csv\", index=False)\n",
        "  print(f\"  train set: {df.shape}\")\n",
        "\n",
        "  df = pd.read_csv(test_url, skiprows=5, usecols=range(1, 8))\n",
        "  df.rename(columns={'H x': 'Hx', 'B x': 'Bx', 'H y': 'Hy', 'B y': 'By', 'H z': 'Hz', 'B z': 'Bz'}, inplace=True)\n",
        "  df.to_csv(f\"{name}_test.csv\", index=False)\n",
        "  print(f\"  test set:  {df.shape}\")\n",
        "\n",
        "print(\"\\nDone\")"
      ],
      "metadata": {
        "id": "r4z1fukAvEA_",
        "colab": {
          "base_uri": "https://localhost:8080/"
        },
        "outputId": "2928ccff-9386-463e-8bcc-31ec255e9292"
      },
      "execution_count": null,
      "outputs": [
        {
          "output_type": "stream",
          "name": "stdout",
          "text": [
            "M19\n",
            "  train set: (2001, 7)\n",
            "  test set:  (1178, 7)\n",
            "\n",
            "Done\n"
          ]
        }
      ]
    },
    {
      "cell_type": "markdown",
      "source": [
        "And the M6 dataset with 20000 data points..."
      ],
      "metadata": {
        "id": "HsbzLaguvOko"
      }
    },
    {
      "cell_type": "code",
      "source": [
        "df = pd.read_csv('https://docs.google.com/spreadsheets/d/e/2PACX-1vR4v2LZFBH-tn1nSFUkL8M3cOZSh1I1jQzXsoLyGtdt--hAgyfEYYk087pFB7iatP7FvJsdM9fvfzAG/pub?gid=1926006206&single=true&output=csv',\n",
        "                 skiprows=5, usecols=range(1, 8))\n",
        "df.to_csv(\"M6_train20000.csv\", index=False)\n",
        "print(f\"M6 (20000 data point version): {df.shape}\")\n",
        "del df"
      ],
      "metadata": {
        "id": "jIYZz1w8vNEw",
        "colab": {
          "base_uri": "https://localhost:8080/"
        },
        "outputId": "df0899e7-641c-4bf3-c699-ce26224a8acb"
      },
      "execution_count": null,
      "outputs": [
        {
          "output_type": "stream",
          "name": "stdout",
          "text": [
            "M6 (20000 data point version): (20001, 7)\n"
          ]
        }
      ]
    },
    {
      "cell_type": "markdown",
      "metadata": {
        "id": "qXHZvelaYUqj"
      },
      "source": [
        "# Training and Testing Sets"
      ]
    },
    {
      "cell_type": "code",
      "execution_count": null,
      "metadata": {
        "id": "nQSVOufHS01j"
      },
      "outputs": [],
      "source": [
        "def generate_timesteps(df, window=1):\n",
        "  assert window > 0\n",
        "\n",
        "  y = np.zeros((len(df), window, 1))\n",
        "  x = np.zeros((len(df), window, 2))\n",
        "\n",
        "  for w in range(window):\n",
        "    y[w:, window - w - 1, 0] = df['Bx'][:len(df) - w]\n",
        "\n",
        "  for w in range(window):\n",
        "    x[w:, window - w - 1, 0] = df['Hx'][:len(df) - w]\n",
        "\n",
        "  for w in range(window):\n",
        "    x[w + 1:, window - w - 1, 1] = df['Bx'][:len(df) - w - 1]\n",
        "\n",
        "  return (x, y[:, -1, :])"
      ]
    },
    {
      "cell_type": "markdown",
      "metadata": {
        "id": "rdyzIqevhmwE"
      },
      "source": [
        "## M19"
      ]
    },
    {
      "cell_type": "code",
      "execution_count": null,
      "metadata": {
        "id": "uLgQgmtuZcla",
        "colab": {
          "base_uri": "https://localhost:8080/"
        },
        "outputId": "cde94e59-7bc2-49a8-c38a-ce5c138f8962"
      },
      "outputs": [
        {
          "output_type": "stream",
          "name": "stdout",
          "text": [
            "Training Set\n",
            "  X: (2001, 30, 2) or (2001, 30, 6)\n",
            "  Y: (2001, 1)\n"
          ]
        }
      ],
      "source": [
        "(M19_train_X, M19_train_Y) = generate_timesteps(pd.read_csv('./M19_train.csv'), window=30)\n",
        "\n",
        "M19_fat_X = np.concatenate([\n",
        "    M19_train_X,\n",
        "    np.zeros((M19_train_X.shape[0], M19_train_X.shape[1], 4))\n",
        "], axis=2)\n",
        "\n",
        "print(\"Training Set\")\n",
        "print(f\"  X: {M19_train_X.shape} or {M19_fat_X.shape}\")\n",
        "print(f\"  Y: {M19_train_Y.shape}\")"
      ]
    },
    {
      "cell_type": "markdown",
      "source": [
        "# ML Models"
      ],
      "metadata": {
        "id": "agh1CiYKwbKi"
      }
    },
    {
      "cell_type": "markdown",
      "source": [
        "## Temporal Convolution Network (CNV4)"
      ],
      "metadata": {
        "id": "RVfCw-uVwewO"
      }
    },
    {
      "cell_type": "code",
      "source": [
        "def new_model_cnv4():\n",
        "  input = tf.keras.layers.Input(shape=(7, 2))\n",
        "\n",
        "  x = input\n",
        "  for i in range(4):\n",
        "    x = tf.keras.layers.Conv1D(128, kernel_size=(4,), padding='causal', activation='swish')(x)\n",
        "    y = tf.keras.layers.Conv1D(128, kernel_size=(4,), padding='causal', activation='swish')(x)\n",
        "    x = tf.keras.layers.Add()([x, y])\n",
        "\n",
        "  x = tf.keras.layers.Conv1D(128, kernel_size=(3,), activation='swish')(x)\n",
        "  x = tf.keras.layers.Dense(128, activation='swish')(x)\n",
        "\n",
        "  x = tf.keras.layers.Conv1D(128, kernel_size=(3,), activation='swish')(x)\n",
        "  x = tf.keras.layers.Dense(128, activation='swish')(x)\n",
        "\n",
        "  x = tf.keras.layers.Conv1D(128, kernel_size=(3,), activation='swish')(x)\n",
        "  x = tf.keras.layers.Dense(128, activation='swish')(x)\n",
        "\n",
        "  x = tf.keras.layers.Dense(1, activation='linear')(x)\n",
        "  x = tf.keras.layers.Flatten()(x)\n",
        "\n",
        "  model = tf.keras.Model(inputs=input, outputs=x)\n",
        "  return model\n",
        "\n",
        "new_model_cnv4().summary()"
      ],
      "metadata": {
        "id": "kdhXjRRoweDb",
        "colab": {
          "base_uri": "https://localhost:8080/"
        },
        "outputId": "3a9acea2-d511-4c0f-b841-d90d893b53a7"
      },
      "execution_count": null,
      "outputs": [
        {
          "output_type": "stream",
          "name": "stdout",
          "text": [
            "Model: \"model_11\"\n",
            "__________________________________________________________________________________________________\n",
            " Layer (type)                   Output Shape         Param #     Connected to                     \n",
            "==================================================================================================\n",
            " input_12 (InputLayer)          [(None, 7, 2)]       0           []                               \n",
            "                                                                                                  \n",
            " conv1d_44 (Conv1D)             (None, 7, 128)       1152        ['input_12[0][0]']               \n",
            "                                                                                                  \n",
            " conv1d_45 (Conv1D)             (None, 7, 128)       65664       ['conv1d_44[0][0]']              \n",
            "                                                                                                  \n",
            " add_16 (Add)                   (None, 7, 128)       0           ['conv1d_44[0][0]',              \n",
            "                                                                  'conv1d_45[0][0]']              \n",
            "                                                                                                  \n",
            " conv1d_46 (Conv1D)             (None, 7, 128)       65664       ['add_16[0][0]']                 \n",
            "                                                                                                  \n",
            " conv1d_47 (Conv1D)             (None, 7, 128)       65664       ['conv1d_46[0][0]']              \n",
            "                                                                                                  \n",
            " add_17 (Add)                   (None, 7, 128)       0           ['conv1d_46[0][0]',              \n",
            "                                                                  'conv1d_47[0][0]']              \n",
            "                                                                                                  \n",
            " conv1d_48 (Conv1D)             (None, 7, 128)       65664       ['add_17[0][0]']                 \n",
            "                                                                                                  \n",
            " conv1d_49 (Conv1D)             (None, 7, 128)       65664       ['conv1d_48[0][0]']              \n",
            "                                                                                                  \n",
            " add_18 (Add)                   (None, 7, 128)       0           ['conv1d_48[0][0]',              \n",
            "                                                                  'conv1d_49[0][0]']              \n",
            "                                                                                                  \n",
            " conv1d_50 (Conv1D)             (None, 7, 128)       65664       ['add_18[0][0]']                 \n",
            "                                                                                                  \n",
            " conv1d_51 (Conv1D)             (None, 7, 128)       65664       ['conv1d_50[0][0]']              \n",
            "                                                                                                  \n",
            " add_19 (Add)                   (None, 7, 128)       0           ['conv1d_50[0][0]',              \n",
            "                                                                  'conv1d_51[0][0]']              \n",
            "                                                                                                  \n",
            " conv1d_52 (Conv1D)             (None, 5, 128)       49280       ['add_19[0][0]']                 \n",
            "                                                                                                  \n",
            " dense_18 (Dense)               (None, 5, 128)       16512       ['conv1d_52[0][0]']              \n",
            "                                                                                                  \n",
            " conv1d_53 (Conv1D)             (None, 3, 128)       49280       ['dense_18[0][0]']               \n",
            "                                                                                                  \n",
            " dense_19 (Dense)               (None, 3, 128)       16512       ['conv1d_53[0][0]']              \n",
            "                                                                                                  \n",
            " conv1d_54 (Conv1D)             (None, 1, 128)       49280       ['dense_19[0][0]']               \n",
            "                                                                                                  \n",
            " dense_20 (Dense)               (None, 1, 128)       16512       ['conv1d_54[0][0]']              \n",
            "                                                                                                  \n",
            " dense_21 (Dense)               (None, 1, 1)         129         ['dense_20[0][0]']               \n",
            "                                                                                                  \n",
            " flatten_4 (Flatten)            (None, 1)            0           ['dense_21[0][0]']               \n",
            "                                                                                                  \n",
            "==================================================================================================\n",
            "Total params: 658,305\n",
            "Trainable params: 658,305\n",
            "Non-trainable params: 0\n",
            "__________________________________________________________________________________________________\n"
          ]
        }
      ]
    },
    {
      "cell_type": "markdown",
      "source": [
        "## LSTM"
      ],
      "metadata": {
        "id": "jRz-kZR0wvpX"
      }
    },
    {
      "cell_type": "code",
      "source": [
        "def new_model_lstm():\n",
        "  return tf.keras.Sequential([\n",
        "    tf.keras.layers.LSTM(400, input_shape=(None, 2), return_sequences=True),\n",
        "    tf.keras.layers.LSTM(400),\n",
        "    tf.keras.layers.Dense(1),\n",
        "  ])\n",
        "\n",
        "new_model_lstm().summary()"
      ],
      "metadata": {
        "id": "pXXNvF6Cw0xU",
        "colab": {
          "base_uri": "https://localhost:8080/"
        },
        "outputId": "af0bf799-adbb-44c1-e514-9a5447f153cb"
      },
      "execution_count": null,
      "outputs": [
        {
          "output_type": "stream",
          "name": "stdout",
          "text": [
            "Model: \"sequential_2\"\n",
            "_________________________________________________________________\n",
            " Layer (type)                Output Shape              Param #   \n",
            "=================================================================\n",
            " lstm_4 (LSTM)               (None, None, 400)         644800    \n",
            "                                                                 \n",
            " lstm_5 (LSTM)               (None, 400)               1281600   \n",
            "                                                                 \n",
            " dense_22 (Dense)            (None, 1)                 401       \n",
            "                                                                 \n",
            "=================================================================\n",
            "Total params: 1,926,801\n",
            "Trainable params: 1,926,801\n",
            "Non-trainable params: 0\n",
            "_________________________________________________________________\n"
          ]
        }
      ]
    },
    {
      "cell_type": "markdown",
      "source": [
        "## GRU1"
      ],
      "metadata": {
        "id": "unRtlhl7xH6D"
      }
    },
    {
      "cell_type": "code",
      "source": [
        "def new_model_gru1():\n",
        "  input = tf.keras.Input(shape=(None, 2))\n",
        "\n",
        "  x = tf.keras.layers.GRU(32, return_sequences=True)(input)\n",
        "  x = tf.keras.layers.GRU(1)(x)\n",
        "\n",
        "  model = tf.keras.Model(input, x)\n",
        "  return model\n",
        "\n",
        "new_model_gru1().summary()"
      ],
      "metadata": {
        "id": "c5vYV-mPxW-k",
        "colab": {
          "base_uri": "https://localhost:8080/"
        },
        "outputId": "c2b3e2b0-cb9f-414b-ad35-de99c36f7ccf"
      },
      "execution_count": null,
      "outputs": [
        {
          "output_type": "stream",
          "name": "stdout",
          "text": [
            "Model: \"model_19\"\n",
            "_________________________________________________________________\n",
            " Layer (type)                Output Shape              Param #   \n",
            "=================================================================\n",
            " input_20 (InputLayer)       [(None, None, 2)]         0         \n",
            "                                                                 \n",
            " gru_26 (GRU)                (None, None, 32)          3456      \n",
            "                                                                 \n",
            " gru_27 (GRU)                (None, 1)                 105       \n",
            "                                                                 \n",
            "=================================================================\n",
            "Total params: 3,561\n",
            "Trainable params: 3,561\n",
            "Non-trainable params: 0\n",
            "_________________________________________________________________\n"
          ]
        }
      ]
    },
    {
      "cell_type": "markdown",
      "source": [
        "## Bidi GRU"
      ],
      "metadata": {
        "id": "APIbuRZW0ZFH"
      }
    },
    {
      "cell_type": "code",
      "source": [
        "def new_model_bidi():\n",
        "  input = tf.keras.Input(shape=(None, 6))\n",
        "\n",
        "  x = tf.keras.layers.GRU(32, return_sequences=True)(input)\n",
        "  x = tf.keras.layers.Bidirectional(\n",
        "        tf.keras.layers.GRU(1),\n",
        "        merge_mode='ave')(x)\n",
        "\n",
        "  model = tf.keras.Model(input, x)\n",
        "  return model\n",
        "\n",
        "new_model_bidi().summary()"
      ],
      "metadata": {
        "colab": {
          "base_uri": "https://localhost:8080/"
        },
        "id": "zn-vhmFV0ejF",
        "outputId": "44081ca5-7dcf-4891-80d3-dfdc504cc84e"
      },
      "execution_count": null,
      "outputs": [
        {
          "output_type": "stream",
          "name": "stdout",
          "text": [
            "Model: \"model_13\"\n",
            "_________________________________________________________________\n",
            " Layer (type)                Output Shape              Param #   \n",
            "=================================================================\n",
            " input_14 (InputLayer)       [(None, None, 6)]         0         \n",
            "                                                                 \n",
            " gru_16 (GRU)                (None, None, 32)          3840      \n",
            "                                                                 \n",
            " bidirectional_5 (Bidirectio  (None, 1)                210       \n",
            " nal)                                                            \n",
            "                                                                 \n",
            "=================================================================\n",
            "Total params: 4,050\n",
            "Trainable params: 4,050\n",
            "Non-trainable params: 0\n",
            "_________________________________________________________________\n"
          ]
        }
      ]
    },
    {
      "cell_type": "markdown",
      "source": [
        "## RNN + Transformer"
      ],
      "metadata": {
        "id": "N4l4G1A73f7I"
      }
    },
    {
      "cell_type": "code",
      "source": [
        "import tensorflow as tf\n",
        "from tensorflow import keras\n",
        "from tensorflow.keras import layers\n",
        "\n",
        "class TransformerEncoder(layers.Layer):\n",
        "    def __init__(self, embed_dim, dense_dim, num_heads, **kwargs):\n",
        "        super().__init__(**kwargs)\n",
        "        self.embed_dim = embed_dim\n",
        "        self.dense_dim = dense_dim\n",
        "        self.num_heads = num_heads\n",
        "        self.attention = layers.MultiHeadAttention(\n",
        "            num_heads=num_heads, key_dim=embed_dim)\n",
        "        self.dense_proj = keras.Sequential(\n",
        "            [layers.Dense(dense_dim, activation=\"relu\"),\n",
        "             layers.Dense(embed_dim),]\n",
        "        )\n",
        "        self.layernorm_1 = layers.LayerNormalization()\n",
        "        self.layernorm_2 = layers.LayerNormalization()\n",
        "\n",
        "    def call(self, inputs, mask=None):\n",
        "        if mask is not None:\n",
        "            mask = mask[:, tf.newaxis, :]\n",
        "        attention_output = self.attention(\n",
        "            inputs, inputs, attention_mask=mask)\n",
        "        proj_input = self.layernorm_1(inputs + attention_output)\n",
        "        proj_output = self.dense_proj(proj_input)\n",
        "        return self.layernorm_2(proj_input + proj_output)\n",
        "\n",
        "    def get_config(self):\n",
        "        config = super().get_config()\n",
        "        config.update({\n",
        "            \"embed_dim\": self.embed_dim,\n",
        "            \"num_heads\": self.num_heads,\n",
        "            \"dense_dim\": self.dense_dim,\n",
        "        })\n",
        "        return config"
      ],
      "metadata": {
        "id": "_4AtVIPj3iib"
      },
      "execution_count": null,
      "outputs": []
    },
    {
      "cell_type": "code",
      "source": [
        "def new_model_rtr1():\n",
        "  input = tf.keras.Input(shape=(None, 6))\n",
        "  x = layers.GRU(32, return_sequences=True)(input)\n",
        "  x = TransformerEncoder(32, 32, 4)(x)\n",
        "  outputs = layers.GRU(1)(x)\n",
        "  model = keras.Model(input, outputs)\n",
        "  return model\n",
        "\n",
        "new_model_rtr1().summary()"
      ],
      "metadata": {
        "colab": {
          "base_uri": "https://localhost:8080/"
        },
        "id": "UWQ-VtWm3lAW",
        "outputId": "89c8da81-f56c-48ce-d041-f2789529bbd1"
      },
      "execution_count": null,
      "outputs": [
        {
          "output_type": "stream",
          "name": "stdout",
          "text": [
            "Model: \"model_20\"\n",
            "_________________________________________________________________\n",
            " Layer (type)                Output Shape              Param #   \n",
            "=================================================================\n",
            " input_21 (InputLayer)       [(None, None, 6)]         0         \n",
            "                                                                 \n",
            " gru_28 (GRU)                (None, None, 32)          3840      \n",
            "                                                                 \n",
            " transformer_encoder_2 (Tran  (None, None, 32)         19040     \n",
            " sformerEncoder)                                                 \n",
            "                                                                 \n",
            " gru_29 (GRU)                (None, 1)                 105       \n",
            "                                                                 \n",
            "=================================================================\n",
            "Total params: 22,985\n",
            "Trainable params: 22,985\n",
            "Non-trainable params: 0\n",
            "_________________________________________________________________\n"
          ]
        }
      ]
    },
    {
      "cell_type": "markdown",
      "source": [
        "# Utilities"
      ],
      "metadata": {
        "id": "IHW_Ov3Nxt_y"
      }
    },
    {
      "cell_type": "code",
      "source": [
        "def compile_and_fit(model, train_X, train_Y,\n",
        "                    epochs=10,\n",
        "                    patience=10,\n",
        "                    min_delta=0,\n",
        "                    batch_size=50,\n",
        "                    seed=9763):\n",
        "  if seed is not None:\n",
        "    np.random.seed(seed)\n",
        "    tf.random.set_seed(seed)\n",
        "\n",
        "  model.compile(loss='mse', optimizer='adam')\n",
        "  early_stopping = tf.keras.callbacks.EarlyStopping(monitor='loss',\n",
        "                                                    mode='auto',\n",
        "                                                    verbose=0,\n",
        "                                                    min_delta=min_delta,\n",
        "                                                    patience=patience)\n",
        "  \n",
        "  # sneaky normalization\n",
        "  train_X = np.array(train_X, copy=True)\n",
        "  train_Y = np.array(train_Y, copy=True)\n",
        "  train_X[:, :, 1] /= 1.5\n",
        "  train_Y /= 1.5\n",
        "  np.clip(train_Y, -1, 1, out=train_Y)\n",
        "\n",
        "  return model.fit(train_X, train_Y,\n",
        "                   epochs=epochs,\n",
        "                   batch_size=batch_size,\n",
        "                   callbacks=[early_stopping])"
      ],
      "metadata": {
        "id": "C5ad1h8Qx-o1"
      },
      "execution_count": null,
      "outputs": []
    },
    {
      "cell_type": "code",
      "source": [
        "def time_model(model, steps, cycles=100, features=2):\n",
        "  assert features >= 2\n",
        "\n",
        "  for i in range(cycles):\n",
        "    input = np.random.rand(1, steps, features)\n",
        "    input[:, :, 0] = input[:, :, 0] * 1600 - 800\n",
        "    input[:, :, 1] = input[:, :, 1] * 2 - 1\n",
        "\n",
        "    model.predict(input)"
      ],
      "metadata": {
        "id": "BVghmcqBGaSc"
      },
      "execution_count": null,
      "outputs": []
    },
    {
      "cell_type": "code",
      "source": [
        "def sketchy_timing_stats(output):\n",
        "  import re\n",
        "  pattern = re.compile('(\\d+)s (\\d+)ms')\n",
        "\n",
        "  q = []\n",
        "  for line in output.split('\\n'):\n",
        "    if line:\n",
        "      m = re.search(pattern, line)\n",
        "      v = int(m.group(1)) * 1000 + int(m.group(2))\n",
        "      q.append(v)\n",
        "\n",
        "  print(f\"avg: {np.average(q)}\")\n",
        "  print(f\"std: {np.std(q)}\")"
      ],
      "metadata": {
        "id": "Tdk645Q84gqF"
      },
      "execution_count": null,
      "outputs": []
    },
    {
      "cell_type": "markdown",
      "source": [
        "# Model Performance"
      ],
      "metadata": {
        "id": "Pbdprt2qxwNR"
      }
    },
    {
      "cell_type": "markdown",
      "source": [
        "## CNV4\n",
        "\n",
        "Note that CNV4 uses 7 timesteps while the data has 30. Need to only keep the last 7."
      ],
      "metadata": {
        "id": "el-Rgwm52M8L"
      }
    },
    {
      "cell_type": "code",
      "source": [
        "model = new_model_cnv4()\n",
        "history = compile_and_fit(model, M19_train_X[:, -7:, :], M19_train_Y)\n",
        "model.save('./Model_CNV4_M19')\n",
        "del model, history"
      ],
      "metadata": {
        "id": "nG9dXVco2M8O",
        "colab": {
          "base_uri": "https://localhost:8080/"
        },
        "outputId": "afaff52c-78aa-4d76-e914-82caba9f1d0f"
      },
      "execution_count": null,
      "outputs": [
        {
          "output_type": "stream",
          "name": "stdout",
          "text": [
            "Epoch 1/10\n",
            "41/41 [==============================] - 3s 10ms/step - loss: 0.4731\n",
            "Epoch 2/10\n",
            "41/41 [==============================] - 0s 9ms/step - loss: 0.0220\n",
            "Epoch 3/10\n",
            "41/41 [==============================] - 0s 9ms/step - loss: 0.0093\n",
            "Epoch 4/10\n",
            "41/41 [==============================] - 0s 9ms/step - loss: 0.0071\n",
            "Epoch 5/10\n",
            "41/41 [==============================] - 0s 9ms/step - loss: 0.0049\n",
            "Epoch 6/10\n",
            "41/41 [==============================] - 0s 8ms/step - loss: 0.0039\n",
            "Epoch 7/10\n",
            "41/41 [==============================] - 0s 9ms/step - loss: 0.0032\n",
            "Epoch 8/10\n",
            "41/41 [==============================] - 0s 11ms/step - loss: 0.0035\n",
            "Epoch 9/10\n",
            "41/41 [==============================] - 1s 18ms/step - loss: 0.0085\n",
            "Epoch 10/10\n",
            "41/41 [==============================] - 0s 9ms/step - loss: 0.0031\n"
          ]
        },
        {
          "output_type": "stream",
          "name": "stderr",
          "text": [
            "WARNING:absl:Found untraced functions such as _jit_compiled_convolution_op, _jit_compiled_convolution_op, _jit_compiled_convolution_op, _jit_compiled_convolution_op, _jit_compiled_convolution_op while saving (showing 5 of 11). These functions will not be directly callable after loading.\n",
            "INFO:tensorflow:Assets written to: ./Model_CNV4_M19/assets\n"
          ]
        }
      ]
    },
    {
      "cell_type": "code",
      "source": [
        "time_model(tf.keras.models.load_model('./Model_CNV4_M19'), 7)"
      ],
      "metadata": {
        "id": "qROK5G0FH7AB",
        "colab": {
          "base_uri": "https://localhost:8080/"
        },
        "outputId": "60563521-1aa1-442e-98f7-a7fc9ec069c0"
      },
      "execution_count": null,
      "outputs": [
        {
          "output_type": "stream",
          "name": "stdout",
          "text": [
            "1/1 [==============================] - 0s 309ms/step\n",
            "1/1 [==============================] - 0s 19ms/step\n",
            "1/1 [==============================] - 0s 17ms/step\n",
            "1/1 [==============================] - 0s 16ms/step\n",
            "1/1 [==============================] - 0s 16ms/step\n",
            "1/1 [==============================] - 0s 16ms/step\n",
            "1/1 [==============================] - 0s 17ms/step\n",
            "1/1 [==============================] - 0s 16ms/step\n",
            "1/1 [==============================] - 0s 17ms/step\n",
            "1/1 [==============================] - 0s 17ms/step\n",
            "1/1 [==============================] - 0s 17ms/step\n",
            "1/1 [==============================] - 0s 16ms/step\n",
            "1/1 [==============================] - 0s 16ms/step\n",
            "1/1 [==============================] - 0s 19ms/step\n",
            "1/1 [==============================] - 0s 27ms/step\n",
            "1/1 [==============================] - 0s 48ms/step\n",
            "1/1 [==============================] - 0s 38ms/step\n",
            "1/1 [==============================] - 0s 45ms/step\n",
            "1/1 [==============================] - 0s 23ms/step\n",
            "1/1 [==============================] - 0s 16ms/step\n",
            "1/1 [==============================] - 0s 16ms/step\n",
            "1/1 [==============================] - 0s 19ms/step\n",
            "1/1 [==============================] - 0s 16ms/step\n",
            "1/1 [==============================] - 0s 16ms/step\n",
            "1/1 [==============================] - 0s 17ms/step\n",
            "1/1 [==============================] - 0s 16ms/step\n",
            "1/1 [==============================] - 0s 18ms/step\n",
            "1/1 [==============================] - 0s 18ms/step\n",
            "1/1 [==============================] - 0s 20ms/step\n",
            "1/1 [==============================] - 0s 17ms/step\n",
            "1/1 [==============================] - 0s 22ms/step\n",
            "1/1 [==============================] - 0s 20ms/step\n",
            "1/1 [==============================] - 0s 24ms/step\n",
            "1/1 [==============================] - 0s 31ms/step\n",
            "1/1 [==============================] - 0s 28ms/step\n",
            "1/1 [==============================] - 0s 27ms/step\n",
            "1/1 [==============================] - 0s 18ms/step\n",
            "1/1 [==============================] - 0s 17ms/step\n",
            "1/1 [==============================] - 0s 19ms/step\n",
            "1/1 [==============================] - 0s 19ms/step\n",
            "1/1 [==============================] - 0s 17ms/step\n",
            "1/1 [==============================] - 0s 16ms/step\n",
            "1/1 [==============================] - 0s 21ms/step\n",
            "1/1 [==============================] - 0s 19ms/step\n",
            "1/1 [==============================] - 0s 20ms/step\n",
            "1/1 [==============================] - 0s 19ms/step\n",
            "1/1 [==============================] - 0s 21ms/step\n",
            "1/1 [==============================] - 0s 19ms/step\n",
            "1/1 [==============================] - 0s 17ms/step\n",
            "1/1 [==============================] - 0s 17ms/step\n",
            "1/1 [==============================] - 0s 17ms/step\n",
            "1/1 [==============================] - 0s 18ms/step\n",
            "1/1 [==============================] - 0s 32ms/step\n",
            "1/1 [==============================] - 0s 27ms/step\n",
            "1/1 [==============================] - 0s 34ms/step\n",
            "1/1 [==============================] - 0s 26ms/step\n",
            "1/1 [==============================] - 0s 19ms/step\n",
            "1/1 [==============================] - 0s 19ms/step\n",
            "1/1 [==============================] - 0s 17ms/step\n",
            "1/1 [==============================] - 0s 19ms/step\n",
            "1/1 [==============================] - 0s 17ms/step\n",
            "1/1 [==============================] - 0s 31ms/step\n",
            "1/1 [==============================] - 0s 20ms/step\n",
            "1/1 [==============================] - 0s 19ms/step\n",
            "1/1 [==============================] - 0s 17ms/step\n",
            "1/1 [==============================] - 0s 20ms/step\n",
            "1/1 [==============================] - 0s 21ms/step\n",
            "1/1 [==============================] - 0s 17ms/step\n",
            "1/1 [==============================] - 0s 20ms/step\n",
            "1/1 [==============================] - 0s 20ms/step\n",
            "1/1 [==============================] - 0s 18ms/step\n",
            "1/1 [==============================] - 0s 20ms/step\n",
            "1/1 [==============================] - 0s 20ms/step\n",
            "1/1 [==============================] - 0s 19ms/step\n",
            "1/1 [==============================] - 0s 18ms/step\n",
            "1/1 [==============================] - 0s 21ms/step\n",
            "1/1 [==============================] - 0s 18ms/step\n",
            "1/1 [==============================] - 0s 19ms/step\n",
            "1/1 [==============================] - 0s 20ms/step\n",
            "1/1 [==============================] - 0s 17ms/step\n",
            "1/1 [==============================] - 0s 17ms/step\n",
            "1/1 [==============================] - 0s 17ms/step\n",
            "1/1 [==============================] - 0s 17ms/step\n",
            "1/1 [==============================] - 0s 29ms/step\n",
            "1/1 [==============================] - 0s 40ms/step\n",
            "1/1 [==============================] - 0s 36ms/step\n",
            "1/1 [==============================] - 0s 30ms/step\n",
            "1/1 [==============================] - 0s 19ms/step\n",
            "1/1 [==============================] - 0s 18ms/step\n",
            "1/1 [==============================] - 0s 17ms/step\n",
            "1/1 [==============================] - 0s 16ms/step\n",
            "1/1 [==============================] - 0s 18ms/step\n",
            "1/1 [==============================] - 0s 18ms/step\n",
            "1/1 [==============================] - 0s 17ms/step\n",
            "1/1 [==============================] - 0s 19ms/step\n",
            "1/1 [==============================] - 0s 20ms/step\n",
            "1/1 [==============================] - 0s 20ms/step\n",
            "1/1 [==============================] - 0s 18ms/step\n",
            "1/1 [==============================] - 0s 19ms/step\n",
            "1/1 [==============================] - 0s 19ms/step\n"
          ]
        }
      ]
    },
    {
      "cell_type": "code",
      "source": [
        "#..."
      ],
      "metadata": {
        "colab": {
          "base_uri": "https://localhost:8080/"
        },
        "id": "3zi_y4_e6a99",
        "outputId": "d6398292-2787-46be-c730-1d7dc0c5a3e1"
      },
      "execution_count": null,
      "outputs": [
        {
          "output_type": "stream",
          "name": "stdout",
          "text": [
            "avg: 20.646464646464647\n",
            "std: 6.243077995252882\n"
          ]
        }
      ]
    },
    {
      "cell_type": "markdown",
      "source": [
        "## LSTM"
      ],
      "metadata": {
        "id": "os_oTIy734tJ"
      }
    },
    {
      "cell_type": "code",
      "source": [
        "model = new_model_lstm()\n",
        "history = compile_and_fit(model, M19_train_X, M19_train_Y)\n",
        "model.save('./Model_LSTM_M19')\n",
        "del model, history"
      ],
      "metadata": {
        "id": "WwYjtmzm34tM",
        "colab": {
          "base_uri": "https://localhost:8080/"
        },
        "outputId": "bdab33d2-c311-44ce-b6d4-30c8ca550cf4"
      },
      "execution_count": null,
      "outputs": [
        {
          "output_type": "stream",
          "name": "stdout",
          "text": [
            "Epoch 1/10\n",
            "41/41 [==============================] - 4s 15ms/step - loss: 0.5056\n",
            "Epoch 2/10\n",
            "41/41 [==============================] - 0s 12ms/step - loss: 0.0069\n",
            "Epoch 3/10\n",
            "41/41 [==============================] - 0s 11ms/step - loss: 0.0023\n",
            "Epoch 4/10\n",
            "41/41 [==============================] - 0s 11ms/step - loss: 0.0011\n",
            "Epoch 5/10\n",
            "41/41 [==============================] - 0s 12ms/step - loss: 7.7925e-04\n",
            "Epoch 6/10\n",
            "41/41 [==============================] - 0s 11ms/step - loss: 8.1490e-04\n",
            "Epoch 7/10\n",
            "41/41 [==============================] - 0s 12ms/step - loss: 4.6528e-04\n",
            "Epoch 8/10\n",
            "41/41 [==============================] - 1s 13ms/step - loss: 3.8935e-04\n",
            "Epoch 9/10\n",
            "41/41 [==============================] - 1s 12ms/step - loss: 3.1267e-04\n",
            "Epoch 10/10\n",
            "41/41 [==============================] - 1s 13ms/step - loss: 2.8758e-04\n"
          ]
        },
        {
          "output_type": "stream",
          "name": "stderr",
          "text": [
            "WARNING:absl:Found untraced functions such as lstm_cell_8_layer_call_fn, lstm_cell_8_layer_call_and_return_conditional_losses, lstm_cell_9_layer_call_fn, lstm_cell_9_layer_call_and_return_conditional_losses while saving (showing 4 of 4). These functions will not be directly callable after loading.\n",
            "INFO:tensorflow:Assets written to: ./Model_LSTM_M19/assets\n"
          ]
        }
      ]
    },
    {
      "cell_type": "code",
      "source": [
        "time_model(tf.keras.models.load_model('./Model_LSTM_M19'), 30)"
      ],
      "metadata": {
        "id": "sIhd2RoyIgwn",
        "colab": {
          "base_uri": "https://localhost:8080/"
        },
        "outputId": "f61a521d-8949-43ca-c674-b0880e708cdc"
      },
      "execution_count": null,
      "outputs": [
        {
          "output_type": "stream",
          "name": "stdout",
          "text": [
            "1/1 [==============================] - 1s 711ms/step\n",
            "1/1 [==============================] - 0s 16ms/step\n",
            "1/1 [==============================] - 0s 16ms/step\n",
            "1/1 [==============================] - 0s 18ms/step\n",
            "1/1 [==============================] - 0s 17ms/step\n",
            "1/1 [==============================] - 0s 17ms/step\n",
            "1/1 [==============================] - 0s 24ms/step\n",
            "1/1 [==============================] - 0s 30ms/step\n",
            "1/1 [==============================] - 0s 26ms/step\n",
            "1/1 [==============================] - 0s 32ms/step\n",
            "1/1 [==============================] - 0s 19ms/step\n",
            "1/1 [==============================] - 0s 17ms/step\n",
            "1/1 [==============================] - 0s 20ms/step\n",
            "1/1 [==============================] - 0s 19ms/step\n",
            "1/1 [==============================] - 0s 16ms/step\n",
            "1/1 [==============================] - 0s 22ms/step\n",
            "1/1 [==============================] - 0s 18ms/step\n",
            "1/1 [==============================] - 0s 16ms/step\n",
            "1/1 [==============================] - 0s 18ms/step\n",
            "1/1 [==============================] - 0s 17ms/step\n",
            "1/1 [==============================] - 0s 19ms/step\n",
            "1/1 [==============================] - 0s 18ms/step\n",
            "1/1 [==============================] - 0s 19ms/step\n",
            "1/1 [==============================] - 0s 20ms/step\n",
            "1/1 [==============================] - 0s 17ms/step\n",
            "1/1 [==============================] - 0s 17ms/step\n",
            "1/1 [==============================] - 0s 18ms/step\n",
            "1/1 [==============================] - 0s 18ms/step\n",
            "1/1 [==============================] - 0s 57ms/step\n",
            "1/1 [==============================] - 0s 37ms/step\n",
            "1/1 [==============================] - 0s 30ms/step\n",
            "1/1 [==============================] - 0s 44ms/step\n",
            "1/1 [==============================] - 0s 17ms/step\n",
            "1/1 [==============================] - 0s 18ms/step\n",
            "1/1 [==============================] - 0s 16ms/step\n",
            "1/1 [==============================] - 0s 18ms/step\n",
            "1/1 [==============================] - 0s 18ms/step\n",
            "1/1 [==============================] - 0s 20ms/step\n",
            "1/1 [==============================] - 0s 16ms/step\n",
            "1/1 [==============================] - 0s 17ms/step\n",
            "1/1 [==============================] - 0s 48ms/step\n",
            "1/1 [==============================] - 0s 32ms/step\n",
            "1/1 [==============================] - 0s 27ms/step\n",
            "1/1 [==============================] - 0s 25ms/step\n",
            "1/1 [==============================] - 0s 17ms/step\n",
            "1/1 [==============================] - 0s 22ms/step\n",
            "1/1 [==============================] - 0s 18ms/step\n",
            "1/1 [==============================] - 0s 19ms/step\n",
            "1/1 [==============================] - 0s 19ms/step\n",
            "1/1 [==============================] - 0s 18ms/step\n",
            "1/1 [==============================] - 0s 17ms/step\n",
            "1/1 [==============================] - 0s 17ms/step\n",
            "1/1 [==============================] - 0s 18ms/step\n",
            "1/1 [==============================] - 0s 17ms/step\n",
            "1/1 [==============================] - 0s 17ms/step\n",
            "1/1 [==============================] - 0s 24ms/step\n",
            "1/1 [==============================] - 0s 16ms/step\n",
            "1/1 [==============================] - 0s 20ms/step\n",
            "1/1 [==============================] - 0s 16ms/step\n",
            "1/1 [==============================] - 0s 17ms/step\n",
            "1/1 [==============================] - 0s 18ms/step\n",
            "1/1 [==============================] - 0s 18ms/step\n",
            "1/1 [==============================] - 0s 18ms/step\n",
            "1/1 [==============================] - 0s 20ms/step\n",
            "1/1 [==============================] - 0s 22ms/step\n",
            "1/1 [==============================] - 0s 17ms/step\n",
            "1/1 [==============================] - 0s 20ms/step\n",
            "1/1 [==============================] - 0s 17ms/step\n",
            "1/1 [==============================] - 0s 18ms/step\n",
            "1/1 [==============================] - 0s 18ms/step\n",
            "1/1 [==============================] - 0s 18ms/step\n",
            "1/1 [==============================] - 0s 21ms/step\n",
            "1/1 [==============================] - 0s 17ms/step\n",
            "1/1 [==============================] - 0s 19ms/step\n",
            "1/1 [==============================] - 0s 16ms/step\n",
            "1/1 [==============================] - 0s 28ms/step\n",
            "1/1 [==============================] - 0s 30ms/step\n",
            "1/1 [==============================] - 0s 31ms/step\n",
            "1/1 [==============================] - 0s 36ms/step\n",
            "1/1 [==============================] - 0s 17ms/step\n",
            "1/1 [==============================] - 0s 19ms/step\n",
            "1/1 [==============================] - 0s 18ms/step\n",
            "1/1 [==============================] - 0s 16ms/step\n",
            "1/1 [==============================] - 0s 19ms/step\n",
            "1/1 [==============================] - 0s 30ms/step\n",
            "1/1 [==============================] - 0s 27ms/step\n",
            "1/1 [==============================] - 0s 34ms/step\n",
            "1/1 [==============================] - 0s 30ms/step\n",
            "1/1 [==============================] - 0s 19ms/step\n",
            "1/1 [==============================] - 0s 18ms/step\n",
            "1/1 [==============================] - 0s 19ms/step\n",
            "1/1 [==============================] - 0s 17ms/step\n",
            "1/1 [==============================] - 0s 17ms/step\n",
            "1/1 [==============================] - 0s 30ms/step\n",
            "1/1 [==============================] - 0s 32ms/step\n",
            "1/1 [==============================] - 0s 29ms/step\n",
            "1/1 [==============================] - 0s 17ms/step\n",
            "1/1 [==============================] - 0s 19ms/step\n",
            "1/1 [==============================] - 0s 16ms/step\n",
            "1/1 [==============================] - 0s 19ms/step\n"
          ]
        }
      ]
    },
    {
      "cell_type": "code",
      "source": [
        "#..."
      ],
      "metadata": {
        "colab": {
          "base_uri": "https://localhost:8080/"
        },
        "id": "q_ugz8IQ7msP",
        "outputId": "6fd2c07f-79d9-45fb-ad4e-c67129d0719f"
      },
      "execution_count": null,
      "outputs": [
        {
          "output_type": "stream",
          "name": "stdout",
          "text": [
            "avg: 21.414141414141415\n",
            "std: 7.26971037313695\n"
          ]
        }
      ]
    },
    {
      "cell_type": "markdown",
      "source": [
        "## GRU1"
      ],
      "metadata": {
        "id": "gce7PRKMz3xl"
      }
    },
    {
      "cell_type": "code",
      "source": [
        "model = new_model_gru1()\n",
        "history = compile_and_fit(model, M19_train_X, M19_train_Y)\n",
        "model.save('./Model_GRU1_M19')\n",
        "del model, history"
      ],
      "metadata": {
        "id": "QOJacrwd1UnX",
        "colab": {
          "base_uri": "https://localhost:8080/"
        },
        "outputId": "866c8c6e-ec0d-4df0-e436-beb94b6c355e"
      },
      "execution_count": null,
      "outputs": [
        {
          "output_type": "stream",
          "name": "stdout",
          "text": [
            "Epoch 1/10\n",
            "41/41 [==============================] - 4s 6ms/step - loss: 0.0297\n",
            "Epoch 2/10\n",
            "41/41 [==============================] - 0s 6ms/step - loss: 0.0053\n",
            "Epoch 3/10\n",
            "41/41 [==============================] - 0s 9ms/step - loss: 0.0036\n",
            "Epoch 4/10\n",
            "41/41 [==============================] - 0s 6ms/step - loss: 0.0033\n",
            "Epoch 5/10\n",
            "41/41 [==============================] - 0s 6ms/step - loss: 0.0026\n",
            "Epoch 6/10\n",
            "41/41 [==============================] - 0s 6ms/step - loss: 0.0025\n",
            "Epoch 7/10\n",
            "41/41 [==============================] - 0s 5ms/step - loss: 0.0023\n",
            "Epoch 8/10\n",
            "41/41 [==============================] - 0s 6ms/step - loss: 0.0021\n",
            "Epoch 9/10\n",
            "41/41 [==============================] - 0s 6ms/step - loss: 0.0018\n",
            "Epoch 10/10\n",
            "41/41 [==============================] - 0s 6ms/step - loss: 0.0018\n"
          ]
        },
        {
          "output_type": "stream",
          "name": "stderr",
          "text": [
            "WARNING:absl:Found untraced functions such as gru_cell_68_layer_call_fn, gru_cell_68_layer_call_and_return_conditional_losses, gru_cell_69_layer_call_fn, gru_cell_69_layer_call_and_return_conditional_losses while saving (showing 4 of 4). These functions will not be directly callable after loading.\n",
            "INFO:tensorflow:Assets written to: ./Model_GRU1_M19/assets\n"
          ]
        }
      ]
    },
    {
      "cell_type": "code",
      "source": [
        "time_model(tf.keras.models.load_model('./Model_GRU1_M19'), 30)"
      ],
      "metadata": {
        "id": "craVc5eWIoVS",
        "colab": {
          "base_uri": "https://localhost:8080/"
        },
        "outputId": "daadd5c3-9529-422f-d19b-837a36c1fb6d"
      },
      "execution_count": null,
      "outputs": [
        {
          "output_type": "stream",
          "name": "stdout",
          "text": [
            "1/1 [==============================] - 1s 531ms/step\n",
            "1/1 [==============================] - 0s 16ms/step\n",
            "1/1 [==============================] - 0s 15ms/step\n",
            "1/1 [==============================] - 0s 15ms/step\n",
            "1/1 [==============================] - 0s 16ms/step\n",
            "1/1 [==============================] - 0s 15ms/step\n",
            "1/1 [==============================] - 0s 15ms/step\n",
            "1/1 [==============================] - 0s 17ms/step\n",
            "1/1 [==============================] - 0s 17ms/step\n",
            "1/1 [==============================] - 0s 15ms/step\n",
            "1/1 [==============================] - 0s 16ms/step\n",
            "1/1 [==============================] - 0s 19ms/step\n",
            "1/1 [==============================] - 0s 17ms/step\n",
            "1/1 [==============================] - 0s 18ms/step\n",
            "1/1 [==============================] - 0s 18ms/step\n",
            "1/1 [==============================] - 0s 18ms/step\n",
            "1/1 [==============================] - 0s 17ms/step\n",
            "1/1 [==============================] - 0s 16ms/step\n",
            "1/1 [==============================] - 0s 14ms/step\n",
            "1/1 [==============================] - 0s 15ms/step\n",
            "1/1 [==============================] - 0s 15ms/step\n",
            "1/1 [==============================] - 0s 17ms/step\n",
            "1/1 [==============================] - 0s 15ms/step\n",
            "1/1 [==============================] - 0s 16ms/step\n",
            "1/1 [==============================] - 0s 17ms/step\n",
            "1/1 [==============================] - 0s 17ms/step\n",
            "1/1 [==============================] - 0s 20ms/step\n",
            "1/1 [==============================] - 0s 18ms/step\n",
            "1/1 [==============================] - 0s 17ms/step\n",
            "1/1 [==============================] - 0s 15ms/step\n",
            "1/1 [==============================] - 0s 18ms/step\n",
            "1/1 [==============================] - 0s 18ms/step\n",
            "1/1 [==============================] - 0s 18ms/step\n",
            "1/1 [==============================] - 0s 18ms/step\n",
            "1/1 [==============================] - 0s 25ms/step\n",
            "1/1 [==============================] - 0s 18ms/step\n",
            "1/1 [==============================] - 0s 15ms/step\n",
            "1/1 [==============================] - 0s 16ms/step\n",
            "1/1 [==============================] - 0s 17ms/step\n",
            "1/1 [==============================] - 0s 15ms/step\n",
            "1/1 [==============================] - 0s 15ms/step\n",
            "1/1 [==============================] - 0s 16ms/step\n",
            "1/1 [==============================] - 0s 17ms/step\n",
            "1/1 [==============================] - 0s 14ms/step\n",
            "1/1 [==============================] - 0s 16ms/step\n",
            "1/1 [==============================] - 0s 18ms/step\n",
            "1/1 [==============================] - 0s 18ms/step\n",
            "1/1 [==============================] - 0s 17ms/step\n",
            "1/1 [==============================] - 0s 16ms/step\n",
            "1/1 [==============================] - 0s 15ms/step\n",
            "1/1 [==============================] - 0s 17ms/step\n",
            "1/1 [==============================] - 0s 15ms/step\n",
            "1/1 [==============================] - 0s 18ms/step\n",
            "1/1 [==============================] - 0s 15ms/step\n",
            "1/1 [==============================] - 0s 16ms/step\n",
            "1/1 [==============================] - 0s 15ms/step\n",
            "1/1 [==============================] - 0s 16ms/step\n",
            "1/1 [==============================] - 0s 16ms/step\n",
            "1/1 [==============================] - 0s 22ms/step\n",
            "1/1 [==============================] - 0s 15ms/step\n",
            "1/1 [==============================] - 0s 18ms/step\n",
            "1/1 [==============================] - 0s 18ms/step\n",
            "1/1 [==============================] - 0s 22ms/step\n",
            "1/1 [==============================] - 0s 22ms/step\n",
            "1/1 [==============================] - 0s 16ms/step\n",
            "1/1 [==============================] - 0s 18ms/step\n",
            "1/1 [==============================] - 0s 17ms/step\n",
            "1/1 [==============================] - 0s 15ms/step\n",
            "1/1 [==============================] - 0s 27ms/step\n",
            "1/1 [==============================] - 0s 17ms/step\n",
            "1/1 [==============================] - 0s 18ms/step\n",
            "1/1 [==============================] - 0s 19ms/step\n",
            "1/1 [==============================] - 0s 19ms/step\n",
            "1/1 [==============================] - 0s 18ms/step\n",
            "1/1 [==============================] - 0s 17ms/step\n",
            "1/1 [==============================] - 0s 19ms/step\n",
            "1/1 [==============================] - 0s 15ms/step\n",
            "1/1 [==============================] - 0s 16ms/step\n",
            "1/1 [==============================] - 0s 18ms/step\n",
            "1/1 [==============================] - 0s 15ms/step\n",
            "1/1 [==============================] - 0s 17ms/step\n",
            "1/1 [==============================] - 0s 17ms/step\n",
            "1/1 [==============================] - 0s 19ms/step\n",
            "1/1 [==============================] - 0s 18ms/step\n",
            "1/1 [==============================] - 0s 15ms/step\n",
            "1/1 [==============================] - 0s 15ms/step\n",
            "1/1 [==============================] - 0s 16ms/step\n",
            "1/1 [==============================] - 0s 16ms/step\n",
            "1/1 [==============================] - 0s 18ms/step\n",
            "1/1 [==============================] - 0s 16ms/step\n",
            "1/1 [==============================] - 0s 18ms/step\n",
            "1/1 [==============================] - 0s 17ms/step\n",
            "1/1 [==============================] - 0s 18ms/step\n",
            "1/1 [==============================] - 0s 21ms/step\n",
            "1/1 [==============================] - 0s 20ms/step\n",
            "1/1 [==============================] - 0s 18ms/step\n",
            "1/1 [==============================] - 0s 18ms/step\n",
            "1/1 [==============================] - 0s 19ms/step\n",
            "1/1 [==============================] - 0s 18ms/step\n",
            "1/1 [==============================] - 0s 15ms/step\n"
          ]
        }
      ]
    },
    {
      "cell_type": "code",
      "source": [
        "#..."
      ],
      "metadata": {
        "colab": {
          "base_uri": "https://localhost:8080/"
        },
        "id": "45s4PKy98BkB",
        "outputId": "61f7352d-17a1-4540-d4d6-4609a74a2cab"
      },
      "execution_count": null,
      "outputs": [
        {
          "output_type": "stream",
          "name": "stdout",
          "text": [
            "avg: 17.11111111111111\n",
            "std: 2.1267364332096235\n"
          ]
        }
      ]
    },
    {
      "cell_type": "markdown",
      "source": [
        "## Bidi GRU"
      ],
      "metadata": {
        "id": "fqPxcJto0jcr"
      }
    },
    {
      "cell_type": "code",
      "source": [
        "model = new_model_bidi()\n",
        "history = compile_and_fit(model, M19_fat_X, M19_train_Y)\n",
        "model.save('./Model_BIDI_M19')\n",
        "del model, history"
      ],
      "metadata": {
        "colab": {
          "base_uri": "https://localhost:8080/"
        },
        "id": "Vk0-qMEl0hQf",
        "outputId": "36b6f999-8109-40ac-ea2d-391ddfd7c627"
      },
      "execution_count": null,
      "outputs": [
        {
          "output_type": "stream",
          "name": "stdout",
          "text": [
            "Epoch 1/10\n",
            "41/41 [==============================] - 5s 7ms/step - loss: 0.0900\n",
            "Epoch 2/10\n",
            "41/41 [==============================] - 0s 7ms/step - loss: 0.0177\n",
            "Epoch 3/10\n",
            "41/41 [==============================] - 0s 7ms/step - loss: 0.0096\n",
            "Epoch 4/10\n",
            "41/41 [==============================] - 0s 8ms/step - loss: 0.0073\n",
            "Epoch 5/10\n",
            "41/41 [==============================] - 0s 8ms/step - loss: 0.0054\n",
            "Epoch 6/10\n",
            "41/41 [==============================] - 0s 7ms/step - loss: 0.0041\n",
            "Epoch 7/10\n",
            "41/41 [==============================] - 0s 8ms/step - loss: 0.0036\n",
            "Epoch 8/10\n",
            "41/41 [==============================] - 0s 8ms/step - loss: 0.0030\n",
            "Epoch 9/10\n",
            "41/41 [==============================] - 0s 8ms/step - loss: 0.0027\n",
            "Epoch 10/10\n",
            "41/41 [==============================] - 0s 8ms/step - loss: 0.0024\n"
          ]
        },
        {
          "output_type": "stream",
          "name": "stderr",
          "text": [
            "WARNING:absl:Found untraced functions such as gru_cell_44_layer_call_fn, gru_cell_44_layer_call_and_return_conditional_losses, gru_cell_46_layer_call_fn, gru_cell_46_layer_call_and_return_conditional_losses, gru_cell_47_layer_call_fn while saving (showing 5 of 6). These functions will not be directly callable after loading.\n",
            "INFO:tensorflow:Assets written to: ./Model_BIDI_M19/assets\n"
          ]
        }
      ]
    },
    {
      "cell_type": "code",
      "source": [
        "time_model(tf.keras.models.load_model('./Model_BIDI_M19'), 30, features=6)"
      ],
      "metadata": {
        "colab": {
          "base_uri": "https://localhost:8080/"
        },
        "id": "ymLjOTkR0l3L",
        "outputId": "02a5a63b-e190-4ebf-8339-e14c15f9b057"
      },
      "execution_count": null,
      "outputs": [
        {
          "output_type": "stream",
          "name": "stdout",
          "text": [
            "1/1 [==============================] - 2s 2s/step\n",
            "1/1 [==============================] - 0s 16ms/step\n",
            "1/1 [==============================] - 0s 20ms/step\n",
            "1/1 [==============================] - 0s 18ms/step\n",
            "1/1 [==============================] - 0s 21ms/step\n",
            "1/1 [==============================] - 0s 22ms/step\n",
            "1/1 [==============================] - 0s 20ms/step\n",
            "1/1 [==============================] - 0s 20ms/step\n",
            "1/1 [==============================] - 0s 19ms/step\n",
            "1/1 [==============================] - 0s 18ms/step\n",
            "1/1 [==============================] - 0s 17ms/step\n",
            "1/1 [==============================] - 0s 18ms/step\n",
            "1/1 [==============================] - 0s 28ms/step\n",
            "1/1 [==============================] - 0s 18ms/step\n",
            "1/1 [==============================] - 0s 22ms/step\n",
            "1/1 [==============================] - 0s 19ms/step\n",
            "1/1 [==============================] - 0s 22ms/step\n",
            "1/1 [==============================] - 0s 18ms/step\n",
            "1/1 [==============================] - 0s 16ms/step\n",
            "1/1 [==============================] - 0s 18ms/step\n",
            "1/1 [==============================] - 0s 19ms/step\n",
            "1/1 [==============================] - 0s 17ms/step\n",
            "1/1 [==============================] - 0s 18ms/step\n",
            "1/1 [==============================] - 0s 17ms/step\n",
            "1/1 [==============================] - 0s 17ms/step\n",
            "1/1 [==============================] - 0s 16ms/step\n",
            "1/1 [==============================] - 0s 16ms/step\n",
            "1/1 [==============================] - 0s 17ms/step\n",
            "1/1 [==============================] - 0s 19ms/step\n",
            "1/1 [==============================] - 0s 18ms/step\n",
            "1/1 [==============================] - 0s 18ms/step\n",
            "1/1 [==============================] - 0s 18ms/step\n",
            "1/1 [==============================] - 0s 18ms/step\n",
            "1/1 [==============================] - 0s 17ms/step\n",
            "1/1 [==============================] - 0s 18ms/step\n",
            "1/1 [==============================] - 0s 16ms/step\n",
            "1/1 [==============================] - 0s 18ms/step\n",
            "1/1 [==============================] - 0s 17ms/step\n",
            "1/1 [==============================] - 0s 17ms/step\n",
            "1/1 [==============================] - 0s 18ms/step\n",
            "1/1 [==============================] - 0s 18ms/step\n",
            "1/1 [==============================] - 0s 16ms/step\n",
            "1/1 [==============================] - 0s 16ms/step\n",
            "1/1 [==============================] - 0s 19ms/step\n",
            "1/1 [==============================] - 0s 16ms/step\n",
            "1/1 [==============================] - 0s 17ms/step\n",
            "1/1 [==============================] - 0s 19ms/step\n",
            "1/1 [==============================] - 0s 19ms/step\n",
            "1/1 [==============================] - 0s 16ms/step\n",
            "1/1 [==============================] - 0s 15ms/step\n",
            "1/1 [==============================] - 0s 15ms/step\n",
            "1/1 [==============================] - 0s 16ms/step\n",
            "1/1 [==============================] - 0s 16ms/step\n",
            "1/1 [==============================] - 0s 20ms/step\n",
            "1/1 [==============================] - 0s 20ms/step\n",
            "1/1 [==============================] - 0s 19ms/step\n",
            "1/1 [==============================] - 0s 19ms/step\n",
            "1/1 [==============================] - 0s 20ms/step\n",
            "1/1 [==============================] - 0s 22ms/step\n",
            "1/1 [==============================] - 0s 18ms/step\n",
            "1/1 [==============================] - 0s 16ms/step\n",
            "1/1 [==============================] - 0s 16ms/step\n",
            "1/1 [==============================] - 0s 15ms/step\n",
            "1/1 [==============================] - 0s 15ms/step\n",
            "1/1 [==============================] - 0s 16ms/step\n",
            "1/1 [==============================] - 0s 18ms/step\n",
            "1/1 [==============================] - 0s 18ms/step\n",
            "1/1 [==============================] - 0s 15ms/step\n",
            "1/1 [==============================] - 0s 18ms/step\n",
            "1/1 [==============================] - 0s 16ms/step\n",
            "1/1 [==============================] - 0s 18ms/step\n",
            "1/1 [==============================] - 0s 17ms/step\n",
            "1/1 [==============================] - 0s 17ms/step\n",
            "1/1 [==============================] - 0s 17ms/step\n",
            "1/1 [==============================] - 0s 18ms/step\n",
            "1/1 [==============================] - 0s 17ms/step\n",
            "1/1 [==============================] - 0s 16ms/step\n",
            "1/1 [==============================] - 0s 17ms/step\n",
            "1/1 [==============================] - 0s 21ms/step\n",
            "1/1 [==============================] - 0s 19ms/step\n",
            "1/1 [==============================] - 0s 18ms/step\n",
            "1/1 [==============================] - 0s 19ms/step\n",
            "1/1 [==============================] - 0s 16ms/step\n",
            "1/1 [==============================] - 0s 19ms/step\n",
            "1/1 [==============================] - 0s 16ms/step\n",
            "1/1 [==============================] - 0s 18ms/step\n",
            "1/1 [==============================] - 0s 18ms/step\n",
            "1/1 [==============================] - 0s 19ms/step\n",
            "1/1 [==============================] - 0s 18ms/step\n",
            "1/1 [==============================] - 0s 18ms/step\n",
            "1/1 [==============================] - 0s 19ms/step\n",
            "1/1 [==============================] - 0s 17ms/step\n",
            "1/1 [==============================] - 0s 18ms/step\n",
            "1/1 [==============================] - 0s 17ms/step\n",
            "1/1 [==============================] - 0s 18ms/step\n",
            "1/1 [==============================] - 0s 18ms/step\n",
            "1/1 [==============================] - 0s 19ms/step\n",
            "1/1 [==============================] - 0s 17ms/step\n",
            "1/1 [==============================] - 0s 19ms/step\n",
            "1/1 [==============================] - 0s 24ms/step\n"
          ]
        }
      ]
    },
    {
      "cell_type": "code",
      "source": [
        "#..."
      ],
      "metadata": {
        "colab": {
          "base_uri": "https://localhost:8080/"
        },
        "id": "gTaTTpce8Q3s",
        "outputId": "28d0837b-9f6a-4d83-f2cf-9b90647e57af"
      },
      "execution_count": null,
      "outputs": [
        {
          "output_type": "stream",
          "name": "stdout",
          "text": [
            "avg: 17.97979797979798\n",
            "std: 1.9897708003626238\n"
          ]
        }
      ]
    },
    {
      "cell_type": "markdown",
      "source": [
        "## RNN + Transformer"
      ],
      "metadata": {
        "id": "F9PaUYrP3xLU"
      }
    },
    {
      "cell_type": "code",
      "source": [
        "model = new_model_rtr1()\n",
        "history = compile_and_fit(model, M19_fat_X, M19_train_Y)\n",
        "model.save('./Model_RTR1_M19')\n",
        "del model, history"
      ],
      "metadata": {
        "colab": {
          "base_uri": "https://localhost:8080/"
        },
        "id": "WM2iYMfZ31a_",
        "outputId": "2ce05039-612e-4f81-f64a-c062562c0960"
      },
      "execution_count": null,
      "outputs": [
        {
          "output_type": "stream",
          "name": "stdout",
          "text": [
            "Epoch 1/10\n",
            "41/41 [==============================] - 4s 10ms/step - loss: 0.0532\n",
            "Epoch 2/10\n",
            "41/41 [==============================] - 0s 8ms/step - loss: 0.0087\n",
            "Epoch 3/10\n",
            "41/41 [==============================] - 0s 9ms/step - loss: 0.0058\n",
            "Epoch 4/10\n",
            "41/41 [==============================] - 0s 9ms/step - loss: 0.0044\n",
            "Epoch 5/10\n",
            "41/41 [==============================] - 0s 12ms/step - loss: 0.0035\n",
            "Epoch 6/10\n",
            "41/41 [==============================] - 1s 16ms/step - loss: 0.0034\n",
            "Epoch 7/10\n",
            "41/41 [==============================] - 0s 11ms/step - loss: 0.0026\n",
            "Epoch 8/10\n",
            "41/41 [==============================] - 0s 9ms/step - loss: 0.0022\n",
            "Epoch 9/10\n",
            "41/41 [==============================] - 0s 9ms/step - loss: 0.0025\n",
            "Epoch 10/10\n",
            "41/41 [==============================] - 0s 9ms/step - loss: 0.0016\n"
          ]
        },
        {
          "output_type": "stream",
          "name": "stderr",
          "text": [
            "WARNING:absl:Found untraced functions such as gru_cell_72_layer_call_fn, gru_cell_72_layer_call_and_return_conditional_losses, multi_head_attention_3_layer_call_fn, multi_head_attention_3_layer_call_and_return_conditional_losses, layer_normalization_6_layer_call_fn while saving (showing 5 of 22). These functions will not be directly callable after loading.\n",
            "INFO:tensorflow:Assets written to: ./Model_RTR1_M19/assets\n"
          ]
        }
      ]
    },
    {
      "cell_type": "code",
      "source": [
        "time_model(tf.keras.models.load_model('./Model_RTR1_M19'), 30, features=6)"
      ],
      "metadata": {
        "colab": {
          "base_uri": "https://localhost:8080/"
        },
        "id": "Uk_pwlmL34H_",
        "outputId": "ee49996b-98e7-4da9-ff8f-0d1d4bfa97ce"
      },
      "execution_count": null,
      "outputs": [
        {
          "output_type": "stream",
          "name": "stdout",
          "text": [
            "1/1 [==============================] - 1s 581ms/step\n",
            "1/1 [==============================] - 0s 16ms/step\n",
            "1/1 [==============================] - 0s 16ms/step\n",
            "1/1 [==============================] - 0s 21ms/step\n",
            "1/1 [==============================] - 0s 19ms/step\n",
            "1/1 [==============================] - 0s 15ms/step\n",
            "1/1 [==============================] - 0s 15ms/step\n",
            "1/1 [==============================] - 0s 18ms/step\n",
            "1/1 [==============================] - 0s 18ms/step\n",
            "1/1 [==============================] - 0s 15ms/step\n",
            "1/1 [==============================] - 0s 17ms/step\n",
            "1/1 [==============================] - 0s 22ms/step\n",
            "1/1 [==============================] - 0s 16ms/step\n",
            "1/1 [==============================] - 0s 16ms/step\n",
            "1/1 [==============================] - 0s 16ms/step\n",
            "1/1 [==============================] - 0s 18ms/step\n",
            "1/1 [==============================] - 0s 18ms/step\n",
            "1/1 [==============================] - 0s 18ms/step\n",
            "1/1 [==============================] - 0s 18ms/step\n",
            "1/1 [==============================] - 0s 21ms/step\n",
            "1/1 [==============================] - 0s 19ms/step\n",
            "1/1 [==============================] - 0s 18ms/step\n",
            "1/1 [==============================] - 0s 21ms/step\n",
            "1/1 [==============================] - 0s 19ms/step\n",
            "1/1 [==============================] - 0s 17ms/step\n",
            "1/1 [==============================] - 0s 17ms/step\n",
            "1/1 [==============================] - 0s 16ms/step\n",
            "1/1 [==============================] - 0s 19ms/step\n",
            "1/1 [==============================] - 0s 16ms/step\n",
            "1/1 [==============================] - 0s 19ms/step\n",
            "1/1 [==============================] - 0s 17ms/step\n",
            "1/1 [==============================] - 0s 19ms/step\n",
            "1/1 [==============================] - 0s 17ms/step\n",
            "1/1 [==============================] - 0s 18ms/step\n",
            "1/1 [==============================] - 0s 18ms/step\n",
            "1/1 [==============================] - 0s 20ms/step\n",
            "1/1 [==============================] - 0s 20ms/step\n",
            "1/1 [==============================] - 0s 19ms/step\n",
            "1/1 [==============================] - 0s 22ms/step\n",
            "1/1 [==============================] - 0s 18ms/step\n",
            "1/1 [==============================] - 0s 22ms/step\n",
            "1/1 [==============================] - 0s 19ms/step\n",
            "1/1 [==============================] - 0s 16ms/step\n",
            "1/1 [==============================] - 0s 19ms/step\n",
            "1/1 [==============================] - 0s 17ms/step\n",
            "1/1 [==============================] - 0s 20ms/step\n",
            "1/1 [==============================] - 0s 19ms/step\n",
            "1/1 [==============================] - 0s 19ms/step\n",
            "1/1 [==============================] - 0s 19ms/step\n",
            "1/1 [==============================] - 0s 18ms/step\n",
            "1/1 [==============================] - 0s 19ms/step\n",
            "1/1 [==============================] - 0s 18ms/step\n",
            "1/1 [==============================] - 0s 19ms/step\n",
            "1/1 [==============================] - 0s 24ms/step\n",
            "1/1 [==============================] - 0s 20ms/step\n",
            "1/1 [==============================] - 0s 16ms/step\n",
            "1/1 [==============================] - 0s 19ms/step\n",
            "1/1 [==============================] - 0s 17ms/step\n",
            "1/1 [==============================] - 0s 16ms/step\n",
            "1/1 [==============================] - 0s 24ms/step\n",
            "1/1 [==============================] - 0s 20ms/step\n",
            "1/1 [==============================] - 0s 17ms/step\n",
            "1/1 [==============================] - 0s 19ms/step\n",
            "1/1 [==============================] - 0s 17ms/step\n",
            "1/1 [==============================] - 0s 17ms/step\n",
            "1/1 [==============================] - 0s 18ms/step\n",
            "1/1 [==============================] - 0s 20ms/step\n",
            "1/1 [==============================] - 0s 18ms/step\n",
            "1/1 [==============================] - 0s 19ms/step\n",
            "1/1 [==============================] - 0s 17ms/step\n",
            "1/1 [==============================] - 0s 19ms/step\n",
            "1/1 [==============================] - 0s 17ms/step\n",
            "1/1 [==============================] - 0s 22ms/step\n",
            "1/1 [==============================] - 0s 21ms/step\n",
            "1/1 [==============================] - 0s 17ms/step\n",
            "1/1 [==============================] - 0s 20ms/step\n",
            "1/1 [==============================] - 0s 20ms/step\n",
            "1/1 [==============================] - 0s 18ms/step\n",
            "1/1 [==============================] - 0s 17ms/step\n",
            "1/1 [==============================] - 0s 18ms/step\n",
            "1/1 [==============================] - 0s 18ms/step\n",
            "1/1 [==============================] - 0s 23ms/step\n",
            "1/1 [==============================] - 0s 18ms/step\n",
            "1/1 [==============================] - 0s 16ms/step\n",
            "1/1 [==============================] - 0s 19ms/step\n",
            "1/1 [==============================] - 0s 19ms/step\n",
            "1/1 [==============================] - 0s 26ms/step\n",
            "1/1 [==============================] - 0s 21ms/step\n",
            "1/1 [==============================] - 0s 18ms/step\n",
            "1/1 [==============================] - 0s 18ms/step\n",
            "1/1 [==============================] - 0s 22ms/step\n",
            "1/1 [==============================] - 0s 20ms/step\n",
            "1/1 [==============================] - 0s 18ms/step\n",
            "1/1 [==============================] - 0s 19ms/step\n",
            "1/1 [==============================] - 0s 19ms/step\n",
            "1/1 [==============================] - 0s 19ms/step\n",
            "1/1 [==============================] - 0s 17ms/step\n",
            "1/1 [==============================] - 0s 18ms/step\n",
            "1/1 [==============================] - 0s 19ms/step\n",
            "1/1 [==============================] - 0s 17ms/step\n"
          ]
        }
      ]
    },
    {
      "cell_type": "code",
      "source": [
        "#..."
      ],
      "metadata": {
        "colab": {
          "base_uri": "https://localhost:8080/"
        },
        "id": "JhrD-gEB_c0p",
        "outputId": "a1e1f690-3ad6-4cd1-8779-42e90930654d"
      },
      "execution_count": null,
      "outputs": [
        {
          "output_type": "stream",
          "name": "stdout",
          "text": [
            "avg: 18.555555555555557\n",
            "std: 2.016208173386055\n"
          ]
        }
      ]
    },
    {
      "cell_type": "markdown",
      "source": [
        "# The End"
      ],
      "metadata": {
        "id": "PCgg4J0X_buh"
      }
    }
  ]
}